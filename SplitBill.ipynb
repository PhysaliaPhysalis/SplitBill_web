{
 "cells": [
  {
   "cell_type": "markdown",
   "id": "768e5950-f646-41f6-885a-ead1deba85a5",
   "metadata": {},
   "source": [
    "# 这是一个简单的分账小程序\n",
    "## 分为 全部分摊版本 & 不同金额加税版本"
   ]
  },
  {
   "cell_type": "markdown",
   "id": "8c840ef7-ab7f-4b24-b60f-dd3b41ea1a89",
   "metadata": {},
   "source": [
    "## 一、全部均摊版本"
   ]
  },
  {
   "cell_type": "code",
   "execution_count": 1,
   "id": "6c5fd122-72da-429d-916a-9078a223b26d",
   "metadata": {},
   "outputs": [],
   "source": [
    "class Bill(object):\n",
    "\n",
    "    # 创建对象————一笔账单\n",
    "    def __init__(self, sort, cost, payer, num_of_people, note):\n",
    "        self.sort = str(sort)                    # 花销的种类，可以是taxi、dining等大类，也可以是具体菜品、具体活动这种小类\n",
    "        self.cost = float(cost)                  # 花费的钱数\n",
    "        self.payer = str(payer)                  # 付款人\n",
    "        self.num_of_people = int(num_of_people)  # 均摊人数\n",
    "        self.note = str(note)\n",
    "\n",
    "    # 分账\n",
    "    def split(self):\n",
    "        capitation = self.cost/self.num_of_people\n",
    "        return f\"所有人给 {self.payer} 支付 {capitation} $\"\n",
    "\n",
    "    # 修改金额\n",
    "    def alter_cost(self, new_cost):\n",
    "        self.cost = float(new_cost)\n",
    "        return self.cost\n",
    "        \n",
    "    # 修改付款人\n",
    "    def alter_payer(self, new_payer):\n",
    "        self.payer = str(new_payer)\n",
    "        return self.payer\n",
    "\n",
    "    # 方便打印\n",
    "    def __str__(self):\n",
    "        return (f\"Bill 类别: {self.sort}, 金额: {self.cost}, 付款人: {self.payer}, \"\n",
    "                f\"均摊人数: {self.num_of_people}, 备注: {self.note}\")\n",
    "        \n",
    "# 按付款人归类并计算均摊费用\n",
    "def calculate_by_payer(bill_list):\n",
    "    payer_dict = {}                                # 设一个空的付款人集\n",
    "    for bill in bill_list:\n",
    "        split_text = bill.split()                  # 获取每个账单的均摊金额，但是是str格式\n",
    "        capitation = float(split_text.split()[-2]) # 提取倒数第二个单词，转换为float\n",
    "        if bill.payer not in payer_dict:\n",
    "            payer_dict[bill.payer] = 0\n",
    "        payer_dict[bill.payer] += capitation       # 累加对应付款人的均摊金额\n",
    "        payer_dict = {payer: round(total, 2) for payer, total in payer_dict.items()}\n",
    "    return f\"所有人给以下的人支付相应金额:\\n{payer_dict}\"\n",
    "    \n",
    "# 其他功能正在开发，咳咳，比如按照sort来进行统计等等"
   ]
  },
  {
   "cell_type": "code",
   "execution_count": 2,
   "id": "41608bc5-c924-41e2-808e-636929f8bfa1",
   "metadata": {},
   "outputs": [],
   "source": [
    "### 适用第一种使用方法 ###\n",
    "\n",
    "# 设置一个汇总账单\n",
    "def gather_bills(num_of_bills):\n",
    "    bills = []\n",
    "    for i in range(1, num_of_bills+1):\n",
    "        bill_name = f\"bill{i}\"              # 动态构建变量名\n",
    "        bills.append(globals()[bill_name])  # 从全局变量中查找对应对象并加进去\n",
    "    return bills"
   ]
  },
  {
   "cell_type": "code",
   "execution_count": 3,
   "id": "e536c47a-f86d-4814-a2ab-21f57c04d376",
   "metadata": {},
   "outputs": [],
   "source": [
    "### 适用第二种使用方法 ###\n",
    "\n",
    "# 通过用户输入创建账单\n",
    "def create_bill_input():\n",
    "    sort = input(\"请输入账单类别 (如dining, taxi): \")\n",
    "    cost = input(\"请输入账单金额 (如100.12): \")\n",
    "    payer = input(\"请输入付款人姓名 (如Alice): \")\n",
    "    num_of_people = input(\"请输入均摊总人数 (如 4): \")\n",
    "    note = input(\"请输入备注信息 (如 第一天晚饭): \")\n",
    "    return Bill(sort=sort, cost=cost, payer=payer, num_of_people=num_of_people, note=note)\n",
    "\n",
    "# 创建账单集\n",
    "def create_bills_via_input():\n",
    "    bills = []\n",
    "    print(\"开始输入账单信息，输入 'done' 结束：\")\n",
    "    count = 1\n",
    "    \n",
    "    while True:\n",
    "        command = input(\"\\n按 Enter 继续输入账单，或输入 'done' 完成所有账单: \").strip().lower()\n",
    "        if command == \"done\":\n",
    "            break\n",
    "        \n",
    "        bill = create_bill_input()\n",
    "        globals()[f\"bill{count}\"] = bill  # 创建全局变量 bill1, bill2...\n",
    "        bills.append(bill)                # 同时存入列表\n",
    "        print(f\"已创建账单 bill{count}\")   # 提示用户\n",
    "        count += 1\n",
    "    return bills\n",
    "\n",
    "# 打印生成的账单集\n",
    "def print_bills(bills):\n",
    "    print(\"\\n生成的账单如下:\")\n",
    "    for i, bill in enumerate(bills, 1):\n",
    "        print(f\"账单 {i}: 类别={bill.sort}, 金额={bill.cost}, 付款人={bill.payer}, 均摊人数={bill.num_of_people}, 备注={bill.note}\")\n",
    "\n",
    "# 设置一个汇总账单\n",
    "def gather_bills_input(bills, num_of_bills):\n",
    "    if len(bills) < num_of_bills:\n",
    "        raise ValueError(\"账单数量不足，请检查输入！\")\n",
    "    return bills[:num_of_bills]"
   ]
  },
  {
   "cell_type": "markdown",
   "id": "661f5943-75c9-4080-9431-00b235fc52ef",
   "metadata": {},
   "source": [
    "笔记：\n",
    "\n",
    "1. input方法（第二种方法）创建的账单是存储在列表中的  \n",
    "create_bills_via_input 中创建的账单是存储在 bills 列表中，并未实际作用到全局变量 bill1, bill2 等上。\n",
    "globals()[f\"bill{count}\"] 是尝试动态创建全局变量，但这种方式和 bills 列表的对象没有直接关联。\n",
    "\n",
    "3. 修改操作的作用域问题  \n",
    "当调用 bill1.alter_cost(60) 时，bill1 是一个全局变量，修改的确实是 bill1 的对象。\n",
    "然而，如果通过 input 方法重新创建账单，这些新对象存储在列表中，不是全局变量，因此不会影响原有的 bill1。"
   ]
  },
  {
   "cell_type": "markdown",
   "id": "146f9b67-aa05-4636-9861-50946864633a",
   "metadata": {},
   "source": [
    "### 操作示例 ###"
   ]
  },
  {
   "cell_type": "code",
   "execution_count": 4,
   "id": "f9f4da82-3028-4f05-8382-6ed43113c4ea",
   "metadata": {},
   "outputs": [
    {
     "name": "stdout",
     "output_type": "stream",
     "text": [
      "所有人给以下的人支付相应金额:\n",
      "{'Haddock': 10.0, 'YiwenPeng': 55.0, 'RongrongZhang': 8.75}\n"
     ]
    }
   ],
   "source": [
    "### 第一种使用方法 ###\n",
    "# 在python中手动创建账单（比较不直观，不够user friendly）\n",
    "\n",
    "# 1.创建单笔账单，最好是bill1、bill2这样的格式\n",
    "#     = Bill(类别sort, 花费cost, 付款人payer, 均摊人数num_of_people，备注note)\n",
    "#     = Bill(sort=\"dining\", cost=100, payer=\"Alice\", num_of_people=4, note=\"day1 dinner\") 示例，可复制使用\n",
    "bill1 = Bill(sort=\"taxi\", cost=40, payer=\"Haddock\", num_of_people=4, note='打车到圣迭戈机场')\n",
    "bill2 = Bill(sort=\"dining\", cost=100, payer=\"YiwenPeng\", num_of_people=4, note='第x天晚饭')\n",
    "bill3 = Bill(sort=\"show\", cost=120, payer=\"YiwenPeng\", num_of_people=4, note='awakening购票')\n",
    "bill4 = Bill(sort=\"drink\", cost=35, payer=\"RongrongZhang\", num_of_people=4, note='第x天奶茶')\n",
    "\n",
    "# 2.创建账单集\n",
    "bill_day1 = gather_bills(4)\n",
    "# 你也可以手动挑选账单创建账单集，比如 bill_list = [bill2, bill4]\n",
    "\n",
    "# 3.计算并输出均摊费用\n",
    "print(calculate_by_payer(bill_day1))"
   ]
  },
  {
   "cell_type": "code",
   "execution_count": 5,
   "id": "0162ecb2-c45e-47d8-993f-991fdfed2944",
   "metadata": {},
   "outputs": [
    {
     "name": "stdout",
     "output_type": "stream",
     "text": [
      "开始输入账单信息，输入 'done' 结束：\n"
     ]
    },
    {
     "name": "stdin",
     "output_type": "stream",
     "text": [
      "\n",
      "按 Enter 继续输入账单，或输入 'done' 完成所有账单:  \n",
      "请输入账单类别 (如dining, taxi):  taxi\n",
      "请输入账单金额 (如100.12):  40\n",
      "请输入付款人姓名 (如Alice):  Haddock\n",
      "请输入均摊总人数 (如 4):  4\n",
      "请输入备注信息 (如 第一天晚饭):  打车去机场\n"
     ]
    },
    {
     "name": "stdout",
     "output_type": "stream",
     "text": [
      "已创建账单 bill1\n"
     ]
    },
    {
     "name": "stdin",
     "output_type": "stream",
     "text": [
      "\n",
      "按 Enter 继续输入账单，或输入 'done' 完成所有账单:  \n",
      "请输入账单类别 (如dining, taxi):  dining\n",
      "请输入账单金额 (如100.12):  100\n",
      "请输入付款人姓名 (如Alice):  YiwenPeng\n",
      "请输入均摊总人数 (如 4):  4\n",
      "请输入备注信息 (如 第一天晚饭):  第x天晚饭\n"
     ]
    },
    {
     "name": "stdout",
     "output_type": "stream",
     "text": [
      "已创建账单 bill2\n"
     ]
    },
    {
     "name": "stdin",
     "output_type": "stream",
     "text": [
      "\n",
      "按 Enter 继续输入账单，或输入 'done' 完成所有账单:  done\n"
     ]
    },
    {
     "name": "stdout",
     "output_type": "stream",
     "text": [
      "\n",
      "生成的账单如下:\n",
      "账单 1: 类别=taxi, 金额=40.0, 付款人=Haddock, 均摊人数=4, 备注=打车去机场\n",
      "账单 2: 类别=dining, 金额=100.0, 付款人=YiwenPeng, 均摊人数=4, 备注=第x天晚饭\n"
     ]
    }
   ],
   "source": [
    "### 第二种使用方法 ###\n",
    "# 比较user friendly！\n",
    "\n",
    "# 1.创建单笔账单\n",
    "bills = create_bills_via_input()\n",
    "print_bills(bills)"
   ]
  },
  {
   "cell_type": "code",
   "execution_count": 6,
   "id": "da48db62-de34-43cd-9bb5-a5e2a33f9159",
   "metadata": {},
   "outputs": [
    {
     "name": "stdout",
     "output_type": "stream",
     "text": [
      "所有人给以下的人支付相应金额:\n",
      "{'Haddock': 10.0, 'YiwenPeng': 25.0}\n"
     ]
    }
   ],
   "source": [
    "# 2.创建账单集\n",
    "bill_day1 = gather_bills_input(bills, 2)\n",
    "# 你也可以手动挑选账单创建账单集，比如 bill_list = [bill2, bill4]\n",
    "\n",
    "# 3.计算并输出均摊费用\n",
    "print(calculate_by_payer(bill_day1))"
   ]
  },
  {
   "cell_type": "code",
   "execution_count": 7,
   "id": "c4462e4b-a67e-4855-a786-5c7e76c039b6",
   "metadata": {},
   "outputs": [
    {
     "data": {
      "text/plain": [
       "60.0"
      ]
     },
     "execution_count": 7,
     "metadata": {},
     "output_type": "execute_result"
    }
   ],
   "source": [
    "# 输错了的情况（仅支持修改金额和付款人）\n",
    "bill1.alter_cost(60)"
   ]
  },
  {
   "cell_type": "code",
   "execution_count": 8,
   "id": "3d403918-9b98-4e55-97c5-f028bc57313c",
   "metadata": {},
   "outputs": [
    {
     "data": {
      "text/plain": [
       "'XinyuGu'"
      ]
     },
     "execution_count": 8,
     "metadata": {},
     "output_type": "execute_result"
    }
   ],
   "source": [
    "bill1.alter_payer('XinyuGu')"
   ]
  },
  {
   "cell_type": "code",
   "execution_count": 9,
   "id": "034516c5-c51b-4e2e-8748-87ca9e9d2a33",
   "metadata": {},
   "outputs": [
    {
     "name": "stdout",
     "output_type": "stream",
     "text": [
      "Bill 类别: taxi, 金额: 60.0, 付款人: XinyuGu, 均摊人数: 4, 备注: 打车去机场\n"
     ]
    }
   ],
   "source": [
    "print(bill1)"
   ]
  },
  {
   "cell_type": "markdown",
   "id": "35f45ff5-46e9-4f0c-b4b8-b3e6f16811f9",
   "metadata": {},
   "source": [
    "## 二、不同金额不同税版本"
   ]
  },
  {
   "cell_type": "code",
   "execution_count": 10,
   "id": "9b038af2-ee87-4a3b-a120-01300e601a8f",
   "metadata": {},
   "outputs": [],
   "source": [
    "def calculate_split(cost, tax, payer, amounts, tax_rate):\n",
    "    # cost: 付款人的花费金额 ，含税 (float)\n",
    "    # tax：税费 (float)\n",
    "    # payer: 付款人的姓名 (str)\n",
    "    # amounts: 每个人的分摊金额字典 (dict)，键为姓名，值为承担金额包括payer\n",
    "    # tax_rate: 税率，小数形式 (float)\n",
    "    \n",
    "    # 验证输入\n",
    "    total_amount = sum(amounts.values())\n",
    "    if total_amount != cost-tax:\n",
    "        raise ValueError(\"每个人承担的金额总和必须等于付款人支付的不含税金额！\")\n",
    "\n",
    "    # 计算税后分摊金额\n",
    "    tax_multiplier = 1 + tax_rate\n",
    "    amounts_with_tax = {person: amount * tax_multiplier for person, amount in amounts.items()}\n",
    "\n",
    "    # 返回大家应该给付款人的金额\n",
    "    to_be_paid = {person: round(amount, 2) for person, amount in amounts_with_tax.items() if person != payer} # 去掉了付款人本身\n",
    "    return to_be_paid"
   ]
  },
  {
   "cell_type": "markdown",
   "id": "2943db15-2ce2-4352-b1ae-d18aa30e53a4",
   "metadata": {},
   "source": [
    "### 操作示例 ###"
   ]
  },
  {
   "cell_type": "code",
   "execution_count": 11,
   "id": "d3d0be23-f01d-4b2c-873b-044c509e5494",
   "metadata": {},
   "outputs": [
    {
     "name": "stdout",
     "output_type": "stream",
     "text": [
      "需要支付给 P 的金额如下（含税）：\n",
      "Q 需要支付 13.91 $\n",
      "Z 需要支付 19.26 $\n",
      "G 需要支付 21.4 $\n"
     ]
    }
   ],
   "source": [
    "# 1.罗列数据（需要根据实际情况改动）\n",
    "cost=67.41\n",
    "tax=4.41\n",
    "payer='P'\n",
    "amounts = {'Q': 13, 'P': 12, \"Z\": 18, \"G\": 20}  # 每个人的承担金额\n",
    "tax_rate=0.07\n",
    "\n",
    "# 2.计算每个人的分账金额\n",
    "try:\n",
    "    result = calculate_split(cost, tax, payer, amounts, tax_rate)\n",
    "    print(f\"需要支付给 {payer} 的金额如下（含税）：\")\n",
    "    for person, amount in result.items():\n",
    "        print(f\"{person} 需要支付 {amount} $\")\n",
    "except ValueError as e:\n",
    "    print(e)"
   ]
  },
  {
   "cell_type": "code",
   "execution_count": 12,
   "id": "3d297755-1c6d-47fc-9a29-a68d5225887e",
   "metadata": {},
   "outputs": [
    {
     "name": "stdout",
     "output_type": "stream",
     "text": [
      "每个人承担的金额总和必须等于付款人支付的不含税金额！\n"
     ]
    }
   ],
   "source": [
    "# amounts输入错误的情况\n",
    "amounts = {'Q': 15, 'P': 12, \"Z\": 18, \"G\": 20}\n",
    "\n",
    "try:\n",
    "    result = calculate_split(cost, tax, payer, amounts, tax_rate)\n",
    "    print(f\"需要支付给 {payer} 的金额如下（含税）：\")\n",
    "    for person, amount in result.items():\n",
    "        print(f\"{person} 需要支付 {amount} $\")\n",
    "except ValueError as e:\n",
    "    print(e)"
   ]
  }
 ],
 "metadata": {
  "kernelspec": {
   "display_name": "Python 3 (ipykernel)",
   "language": "python",
   "name": "python3"
  },
  "language_info": {
   "codemirror_mode": {
    "name": "ipython",
    "version": 3
   },
   "file_extension": ".py",
   "mimetype": "text/x-python",
   "name": "python",
   "nbconvert_exporter": "python",
   "pygments_lexer": "ipython3",
   "version": "3.11.9"
  }
 },
 "nbformat": 4,
 "nbformat_minor": 5
}
